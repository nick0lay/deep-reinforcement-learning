{
 "cells": [
  {
   "cell_type": "markdown",
   "metadata": {},
   "source": [
    "# Collaboration and Competition\n",
    "\n",
    "---\n",
    "\n",
    "In this notebook, you will learn how to use the Unity ML-Agents environment for the third project of the [Deep Reinforcement Learning Nanodegree](https://www.udacity.com/course/deep-reinforcement-learning-nanodegree--nd893) program.\n",
    "\n",
    "### 1. Start the Environment\n",
    "\n",
    "We begin by importing the necessary packages.  If the code cell below returns an error, please revisit the project instructions to double-check that you have installed [Unity ML-Agents](https://github.com/Unity-Technologies/ml-agents/blob/master/docs/Installation.md) and [NumPy](http://www.numpy.org/)."
   ]
  },
  {
   "cell_type": "code",
   "execution_count": 1,
   "metadata": {},
   "outputs": [],
   "source": [
    "# import zipfile\n",
    "# with zipfile.ZipFile('Tennis.app.zip', 'r') as zip_ref:\n",
    "#     zip_ref.extractall()"
   ]
  },
  {
   "cell_type": "code",
   "execution_count": 2,
   "metadata": {},
   "outputs": [],
   "source": [
    "from unityagents import UnityEnvironment\n",
    "import numpy as np"
   ]
  },
  {
   "cell_type": "markdown",
   "metadata": {},
   "source": [
    "Next, we will start the environment!  **_Before running the code cell below_**, change the `file_name` parameter to match the location of the Unity environment that you downloaded.\n",
    "\n",
    "- **Mac**: `\"path/to/Tennis.app\"`\n",
    "- **Windows** (x86): `\"path/to/Tennis_Windows_x86/Tennis.exe\"`\n",
    "- **Windows** (x86_64): `\"path/to/Tennis_Windows_x86_64/Tennis.exe\"`\n",
    "- **Linux** (x86): `\"path/to/Tennis_Linux/Tennis.x86\"`\n",
    "- **Linux** (x86_64): `\"path/to/Tennis_Linux/Tennis.x86_64\"`\n",
    "- **Linux** (x86, headless): `\"path/to/Tennis_Linux_NoVis/Tennis.x86\"`\n",
    "- **Linux** (x86_64, headless): `\"path/to/Tennis_Linux_NoVis/Tennis.x86_64\"`\n",
    "\n",
    "For instance, if you are using a Mac, then you downloaded `Tennis.app`.  If this file is in the same folder as the notebook, then the line below should appear as follows:\n",
    "```\n",
    "env = UnityEnvironment(file_name=\"Tennis.app\")\n",
    "```"
   ]
  },
  {
   "cell_type": "code",
   "execution_count": 3,
   "metadata": {},
   "outputs": [
    {
     "name": "stderr",
     "output_type": "stream",
     "text": [
      "INFO:unityagents:\n",
      "'Academy' started successfully!\n",
      "Unity Academy name: Academy\n",
      "        Number of Brains: 1\n",
      "        Number of External Brains : 1\n",
      "        Lesson number : 0\n",
      "        Reset Parameters :\n",
      "\t\t\n",
      "Unity brain name: TennisBrain\n",
      "        Number of Visual Observations (per agent): 0\n",
      "        Vector Observation space type: continuous\n",
      "        Vector Observation space size (per agent): 8\n",
      "        Number of stacked Vector Observation: 3\n",
      "        Vector Action space type: continuous\n",
      "        Vector Action space size (per agent): 2\n",
      "        Vector Action descriptions: , \n"
     ]
    }
   ],
   "source": [
    "env = UnityEnvironment(file_name=\"Tennis.app\")"
   ]
  },
  {
   "cell_type": "markdown",
   "metadata": {},
   "source": [
    "Environments contain **_brains_** which are responsible for deciding the actions of their associated agents. Here we check for the first brain available, and set it as the default brain we will be controlling from Python."
   ]
  },
  {
   "cell_type": "code",
   "execution_count": 4,
   "metadata": {},
   "outputs": [],
   "source": [
    "# get the default brain\n",
    "brain_name = env.brain_names[0]\n",
    "brain = env.brains[brain_name]"
   ]
  },
  {
   "cell_type": "markdown",
   "metadata": {},
   "source": [
    "### 2. Examine the State and Action Spaces\n",
    "\n",
    "In this environment, two agents control rackets to bounce a ball over a net. If an agent hits the ball over the net, it receives a reward of +0.1.  If an agent lets a ball hit the ground or hits the ball out of bounds, it receives a reward of -0.01.  Thus, the goal of each agent is to keep the ball in play.\n",
    "\n",
    "The observation space consists of 8 variables corresponding to the position and velocity of the ball and racket. Two continuous actions are available, corresponding to movement toward (or away from) the net, and jumping. \n",
    "\n",
    "Run the code cell below to print some information about the environment."
   ]
  },
  {
   "cell_type": "code",
   "execution_count": 5,
   "metadata": {},
   "outputs": [
    {
     "name": "stdout",
     "output_type": "stream",
     "text": [
      "Number of agents: 2\n",
      "Size of each action: 2\n",
      "There are 2 agents. Each observes a state with length: 24\n",
      "The state for the first agent looks like: [ 0.          0.          0.          0.          0.          0.\n",
      "  0.          0.          0.          0.          0.          0.\n",
      "  0.          0.          0.          0.         -6.65278625 -1.5\n",
      " -0.          0.          6.83172083  6.         -0.          0.        ]\n",
      "The state for the second agent looks like: [ 0.          0.          0.          0.          0.          0.\n",
      "  0.          0.          0.          0.          0.          0.\n",
      "  0.          0.          0.          0.         -6.4669857  -1.5\n",
      "  0.          0.         -6.83172083  6.          0.          0.        ]\n"
     ]
    }
   ],
   "source": [
    "# reset the environment\n",
    "env_info = env.reset(train_mode=True)[brain_name]\n",
    "\n",
    "# number of agents \n",
    "num_agents = len(env_info.agents)\n",
    "print('Number of agents:', num_agents)\n",
    "\n",
    "# size of each action\n",
    "action_size = brain.vector_action_space_size\n",
    "print('Size of each action:', action_size)\n",
    "\n",
    "# examine the state space \n",
    "states = env_info.vector_observations\n",
    "state_size = states.shape[1]\n",
    "print('There are {} agents. Each observes a state with length: {}'.format(states.shape[0], state_size))\n",
    "print('The state for the first agent looks like:', states[0])\n",
    "print('The state for the second agent looks like:', states[1])"
   ]
  },
  {
   "cell_type": "markdown",
   "metadata": {},
   "source": [
    "### 3. Take Random Actions in the Environment\n",
    "\n",
    "In the next code cell, you will learn how to use the Python API to control the agents and receive feedback from the environment.\n",
    "\n",
    "Once this cell is executed, you will watch the agents' performance, if they select actions at random with each time step.  A window should pop up that allows you to observe the agents.\n",
    "\n",
    "Of course, as part of the project, you'll have to change the code so that the agents are able to use their experiences to gradually choose better actions when interacting with the environment!"
   ]
  },
  {
   "cell_type": "code",
   "execution_count": 6,
   "metadata": {},
   "outputs": [],
   "source": [
    "# for i in range(1, 6):                                      # play game for 5 episodes\n",
    "#     env_info = env.reset(train_mode=False)[brain_name]     # reset the environment    \n",
    "#     states = env_info.vector_observations                  # get the current state (for each agent)\n",
    "#     scores = np.zeros(num_agents)                          # initialize the score (for each agent)\n",
    "#     while True:\n",
    "#         actions = np.random.randn(num_agents, action_size) # select an action (for each agent)\n",
    "#         actions = np.clip(actions, -1, 1)                  # all actions between -1 and 1\n",
    "#         env_info = env.step(actions)[brain_name]           # send all actions to tne environment\n",
    "#         next_states = env_info.vector_observations         # get next state (for each agent)\n",
    "#         rewards = env_info.rewards                         # get reward (for each agent)\n",
    "#         dones = env_info.local_done                        # see if episode finished\n",
    "#         scores += env_info.rewards                         # update the score (for each agent)\n",
    "#         states = next_states                               # roll over states to next time step\n",
    "#         if np.any(dones):                                  # exit loop if episode finished\n",
    "#             break\n",
    "#     print('Score (max over agents) from episode {}: {}'.format(i, np.max(scores)))"
   ]
  },
  {
   "cell_type": "markdown",
   "metadata": {},
   "source": [
    "When finished, you can close the environment."
   ]
  },
  {
   "cell_type": "code",
   "execution_count": 7,
   "metadata": {},
   "outputs": [],
   "source": [
    "# env.close()"
   ]
  },
  {
   "cell_type": "markdown",
   "metadata": {},
   "source": [
    "### 4. It's Your Turn!\n",
    "\n",
    "Now it's your turn to train your own agent to solve the environment!  When training the environment, set `train_mode=True`, so that the line for resetting the environment looks like the following:\n",
    "```python\n",
    "env_info = env.reset(train_mode=True)[brain_name]\n",
    "```"
   ]
  },
  {
   "cell_type": "markdown",
   "metadata": {},
   "source": [
    "### 5. Initialize agents"
   ]
  },
  {
   "cell_type": "code",
   "execution_count": 8,
   "metadata": {},
   "outputs": [],
   "source": [
    "from ddpg_agent import Agent\n",
    "from collections import deque\n",
    "import matplotlib.pyplot as plt\n",
    "import torch\n",
    "\n",
    "env_info = env.reset(train_mode=True)[brain_name]\n",
    "num_agents = len(env_info.agents)\n",
    "action_size = brain.vector_action_space_size\n",
    "states = env_info.vector_observations\n",
    "state_size = states.shape[1]\n",
    "\n",
    "agent = Agent(state_size, action_size, random_seed=0)"
   ]
  },
  {
   "cell_type": "markdown",
   "metadata": {},
   "source": [
    "### 6. Train agents"
   ]
  },
  {
   "cell_type": "code",
   "execution_count": 9,
   "metadata": {},
   "outputs": [
    {
     "name": "stdout",
     "output_type": "stream",
     "text": [
      "Episode 14\tAverage Score: 0.01"
     ]
    },
    {
     "name": "stderr",
     "output_type": "stream",
     "text": [
      "/Users/nin/Cources/Udacity/deep-reinforcement-learning/p3_collab-compet/ddpg_agent.py:118: UserWarning: torch.nn.utils.clip_grad_norm is now deprecated in favor of torch.nn.utils.clip_grad_norm_.\n",
      "  torch.nn.utils.clip_grad_norm(self.critic_local.parameters(), 1)\n"
     ]
    },
    {
     "name": "stdout",
     "output_type": "stream",
     "text": [
      "Episode 100\tAverage Score: 0.02\n",
      "Episode 200\tAverage Score: 0.04\n",
      "Episode 300\tAverage Score: 0.03\n",
      "Episode 400\tAverage Score: 0.07\n",
      "Episode 500\tAverage Score: 0.10\n",
      "Episode 600\tAverage Score: 0.12\n",
      "Episode 700\tAverage Score: 0.17\n",
      "Episode 800\tAverage Score: 0.22\n",
      "Episode 900\tAverage Score: 0.43\n",
      "Episode 915\tAverage Score: 0.52\n",
      "Environment solved in 815 episodes!\tAverage Score: 0.52\n"
     ]
    },
    {
     "data": {
      "image/png": "[encoded data removed]",
      "text/plain": [
       "<Figure size 432x288 with 1 Axes>"
      ]
     },
     "metadata": {
      "needs_background": "light"
     },
     "output_type": "display_data"
    }
   ],
   "source": [
    "def train(n_episodes=2000, max_t=5000):\n",
    "    \n",
    "    scores_window = deque(maxlen=100)\n",
    "    scores_episode = []\n",
    "        \n",
    "    for i_episode in range(1, n_episodes+1):\n",
    "        scores = np.zeros(num_agents)\n",
    "        env_info = env.reset(train_mode=True)[brain_name]\n",
    "        states = env_info.vector_observations\n",
    "        \n",
    "        agent.reset()\n",
    "        \n",
    "        for t in range(max_t):\n",
    "            add_noise = i_episode < 600\n",
    "            actions = agent.act(states, add_noise)\n",
    "            \n",
    "            env_info = env.step(actions)[brain_name]\n",
    "            \n",
    "            next_states = env_info.vector_observations\n",
    "            rewards = env_info.rewards\n",
    "            dones = env_info.local_done\n",
    "            \n",
    "            for state, action, reward, next_state, done in zip(states, actions, rewards, next_states, dones):\n",
    "                agent.step(t, state, action, reward, next_state, done)\n",
    "        \n",
    "            states = next_states\n",
    "            scores += rewards\n",
    "            \n",
    "            if np.any(dones):\n",
    "                break\n",
    "        \n",
    "        score = np.max(scores)\n",
    "        scores_window.append(score)\n",
    "        scores_episode.append(score)\n",
    "        print('\\rEpisode {}\\tAverage Score: {:.2f}'.format(i_episode, np.mean(scores_window)), end=\"\")\n",
    "        if i_episode % 100 == 0:\n",
    "            print('\\rEpisode {}\\tAverage Score: {:.2f}'.format(i_episode, np.mean(scores_window)))\n",
    "        if np.mean(scores_window)>=0.5:\n",
    "            print('\\nEnvironment solved in {:d} episodes!\\tAverage Score: {:.2f}'.format(i_episode-100, np.mean(scores_window)))\n",
    "            torch.save(agent.actor_local.state_dict(), 'checkpoint_actor_agent.pth')\n",
    "            torch.save(agent.critic_local.state_dict(), 'checkpoint_critic_agent.pth')\n",
    "            break\n",
    "    return scores_episode\n",
    "\n",
    "scores = train()\n",
    "\n",
    "# plot the scores\n",
    "fig = plt.figure()\n",
    "ax = fig.add_subplot(111)\n",
    "plt.plot(np.arange(len(scores)), scores)\n",
    "plt.ylabel('Score')\n",
    "plt.xlabel('Episode #')\n",
    "plt.show()"
   ]
  },
  {
   "cell_type": "markdown",
   "metadata": {},
   "source": [
    "### 7. Start trained agents"
   ]
  },
  {
   "cell_type": "code",
   "execution_count": 11,
   "metadata": {},
   "outputs": [
    {
     "name": "stdout",
     "output_type": "stream",
     "text": [
      "Score (max over agents) from episode 1: 2.600000038743019\n",
      "Score (max over agents) from episode 2: 2.7000000402331352\n",
      "Score (max over agents) from episode 3: 2.600000038743019\n",
      "Score (max over agents) from episode 4: 0.0\n",
      "Score (max over agents) from episode 5: 2.600000038743019\n",
      "Score (max over agents) from episode 6: 2.600000038743019\n",
      "Score (max over agents) from episode 7: 0.10000000149011612\n",
      "Score (max over agents) from episode 8: 0.10000000149011612\n",
      "Score (max over agents) from episode 9: 2.600000038743019\n",
      "Score (max over agents) from episode 10: 0.10000000149011612\n",
      "Score (max over agents) from episode 11: 2.500000037252903\n",
      "Score (max over agents) from episode 12: 1.9000000283122063\n",
      "Score (max over agents) from episode 13: 1.0000000149011612\n",
      "Score (max over agents) from episode 14: 0.5000000074505806\n",
      "Score (max over agents) from episode 15: 0.9000000134110451\n",
      "Score (max over agents) from episode 16: 0.4000000059604645\n",
      "Score (max over agents) from episode 17: 0.10000000149011612\n",
      "Score (max over agents) from episode 18: 0.4000000059604645\n",
      "Score (max over agents) from episode 19: 0.4000000059604645\n",
      "Score (max over agents) from episode 20: 2.600000038743019\n",
      "Score (max over agents) from episode 21: 1.8000000268220901\n",
      "Score (max over agents) from episode 22: 0.4000000059604645\n",
      "Score (max over agents) from episode 23: 1.3000000193715096\n",
      "Score (max over agents) from episode 24: 0.20000000298023224\n",
      "Score (max over agents) from episode 25: 2.600000038743019\n",
      "Score (max over agents) from episode 26: 0.800000011920929\n",
      "Score (max over agents) from episode 27: 2.3000000342726707\n",
      "Score (max over agents) from episode 28: 2.600000038743019\n",
      "Score (max over agents) from episode 29: 0.0\n",
      "Score (max over agents) from episode 30: 2.600000038743019\n",
      "Score (max over agents) from episode 31: 0.20000000298023224\n",
      "Score (max over agents) from episode 32: 0.4000000059604645\n",
      "Score (max over agents) from episode 33: 2.600000038743019\n",
      "Score (max over agents) from episode 34: 0.4000000059604645\n",
      "Score (max over agents) from episode 35: 0.6000000089406967\n",
      "Score (max over agents) from episode 36: 2.600000038743019\n",
      "Score (max over agents) from episode 37: 2.600000038743019\n",
      "Score (max over agents) from episode 38: 0.10000000149011612\n",
      "Score (max over agents) from episode 39: 2.600000038743019\n",
      "Score (max over agents) from episode 40: 2.600000038743019\n",
      "Score (max over agents) from episode 41: 2.7000000402331352\n",
      "Score (max over agents) from episode 42: 0.10000000149011612\n",
      "Score (max over agents) from episode 43: 1.5000000223517418\n",
      "Score (max over agents) from episode 44: 2.600000038743019\n",
      "Score (max over agents) from episode 45: 2.600000038743019\n",
      "Score (max over agents) from episode 46: 2.7000000402331352\n",
      "Score (max over agents) from episode 47: 2.600000038743019\n",
      "Score (max over agents) from episode 48: 0.0\n",
      "Score (max over agents) from episode 49: 0.0\n",
      "Score (max over agents) from episode 50: 2.600000038743019\n",
      "Score (max over agents) from episode 51: 2.600000038743019\n",
      "Score (max over agents) from episode 52: 1.4900000225752592\n",
      "Score (max over agents) from episode 53: 1.9000000283122063\n",
      "Score (max over agents) from episode 54: 1.5900000240653753\n",
      "Score (max over agents) from episode 55: 0.6000000089406967\n",
      "Score (max over agents) from episode 56: 2.600000038743019\n",
      "Score (max over agents) from episode 57: 2.600000038743019\n",
      "Score (max over agents) from episode 58: 2.7000000402331352\n",
      "Score (max over agents) from episode 59: 1.2000000178813934\n",
      "Score (max over agents) from episode 60: 2.600000038743019\n",
      "Score (max over agents) from episode 61: 0.0\n",
      "Score (max over agents) from episode 62: 2.600000038743019\n",
      "Score (max over agents) from episode 63: 1.0000000149011612\n",
      "Score (max over agents) from episode 64: 2.600000038743019\n",
      "Score (max over agents) from episode 65: 2.600000038743019\n",
      "Score (max over agents) from episode 66: 0.5000000074505806\n",
      "Score (max over agents) from episode 67: 0.4000000059604645\n",
      "Score (max over agents) from episode 68: 0.4000000059604645\n",
      "Score (max over agents) from episode 69: 0.20000000298023224\n",
      "Score (max over agents) from episode 70: 1.2000000178813934\n",
      "Score (max over agents) from episode 71: 1.700000025331974\n",
      "Score (max over agents) from episode 72: 1.2000000178813934\n",
      "Score (max over agents) from episode 73: 2.600000038743019\n",
      "Score (max over agents) from episode 74: 2.600000038743019\n",
      "Score (max over agents) from episode 75: 1.600000023841858\n",
      "Score (max over agents) from episode 76: 0.10000000149011612\n",
      "Score (max over agents) from episode 77: 1.8000000268220901\n",
      "Score (max over agents) from episode 78: 2.600000038743019\n",
      "Score (max over agents) from episode 79: 0.0\n",
      "Score (max over agents) from episode 80: 0.4000000059604645\n",
      "Score (max over agents) from episode 81: 1.8000000268220901\n",
      "Score (max over agents) from episode 82: 0.20000000298023224\n",
      "Score (max over agents) from episode 83: 0.20000000298023224\n",
      "Score (max over agents) from episode 84: 0.20000000298023224\n",
      "Score (max over agents) from episode 85: 2.600000038743019\n",
      "Score (max over agents) from episode 86: 1.700000025331974\n",
      "Score (max over agents) from episode 87: 1.1000000163912773\n",
      "Score (max over agents) from episode 88: 0.10000000149011612\n",
      "Score (max over agents) from episode 89: 2.600000038743019\n",
      "Score (max over agents) from episode 90: 1.1000000163912773\n",
      "Score (max over agents) from episode 91: 2.1000000312924385\n",
      "Score (max over agents) from episode 92: 2.2000000327825546\n",
      "Score (max over agents) from episode 93: 0.10000000149011612\n",
      "Score (max over agents) from episode 94: 1.4000000208616257\n",
      "Score (max over agents) from episode 95: 2.600000038743019\n",
      "Score (max over agents) from episode 96: 0.30000000447034836\n",
      "Score (max over agents) from episode 97: 2.600000038743019\n",
      "Score (max over agents) from episode 98: 2.600000038743019\n",
      "Score (max over agents) from episode 99: 0.10000000149011612\n"
     ]
    }
   ],
   "source": [
    "agent.actor_local.load_state_dict(torch.load('checkpoint_actor_agent.pth'))\n",
    "agent.critic_local.load_state_dict(torch.load('checkpoint_critic_agent.pth'))\n",
    "\n",
    "for i in range(1, 100):\n",
    "    env_info = env.reset(train_mode=False)[brain_name]\n",
    "    states = env_info.vector_observations\n",
    "    scores = np.zeros(num_agents)\n",
    "        \n",
    "    agent.reset()\n",
    "    \n",
    "    while True:\n",
    "        actions = agent.act(states, False)\n",
    "        env_info = env.step(actions)[brain_name]\n",
    "        \n",
    "        next_states = env_info.vector_observations\n",
    "        rewards = env_info.rewards\n",
    "        dones = env_info.local_done\n",
    "        \n",
    "        states = next_states\n",
    "        scores += rewards\n",
    "            \n",
    "        if np.any(dones):\n",
    "            break\n",
    "        \n",
    "    print('Score (max over agents) from episode {}: {}'.format(i, np.max(scores)))"
   ]
  },
  {
   "cell_type": "code",
   "execution_count": 12,
   "metadata": {},
   "outputs": [],
   "source": [
    "env.close()"
   ]
  },
  {
   "cell_type": "code",
   "execution_count": null,
   "metadata": {},
   "outputs": [],
   "source": []
  }
 ],
 "metadata": {
  "kernelspec": {
   "display_name": "navigation2",
   "language": "python",
   "name": "navigation2"
  },
  "language_info": {
   "codemirror_mode": {
    "name": "ipython",
    "version": 3
   },
   "file_extension": ".py",
   "mimetype": "text/x-python",
   "name": "python",
   "nbconvert_exporter": "python",
   "pygments_lexer": "ipython3",
   "version": "3.6.13"
  }
 },
 "nbformat": 4,
 "nbformat_minor": 4
}
